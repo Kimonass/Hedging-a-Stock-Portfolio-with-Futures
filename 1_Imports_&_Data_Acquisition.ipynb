{
  "cells": [
    {
      "cell_type": "markdown",
      "metadata": {
        "id": "K9_qIAf2n0M2"
      },
      "source": []
    },
    {
      "cell_type": "markdown",
      "metadata": {
        "id": "r1biy41Dwfht"
      },
      "source": [
        "#Hedging Stock Portfolio with Futures"
      ]
    },
    {
      "cell_type": "markdown",
      "metadata": {
        "id": "uXJ7fn3kOuup"
      },
      "source": [
        "###**Imports & Data Acquisition**"
      ]
    },
    {
      "cell_type": "markdown",
      "metadata": {
        "id": "mRyoHl2Un1sF"
      },
      "source": [
        "####Imports"
      ]
    },
    {
      "cell_type": "code",
      "execution_count": null,
      "metadata": {
        "id": "fbxvwHXs2zlq"
      },
      "outputs": [],
      "source": [
        "import datetime as dt\n",
        "\n",
        "import numpy as np\n",
        "import pandas as pd\n",
        "import yfinance as yf\n",
        "\n",
        "import matplotlib.pyplot as plt\n",
        "from matplotlib import style\n",
        "import matplotlib.dates as mdates\n",
        "import seaborn as sns\n",
        "\n",
        "from sklearn.linear_model import LinearRegression\n",
        "\n",
        "import quantstats as qs\n"
      ]
    },
    {
      "cell_type": "markdown",
      "metadata": {
        "id": "v8-E8Vu_nwTu"
      },
      "source": [
        "####Download Stock Data"
      ]
    },
    {
      "cell_type": "code",
      "execution_count": null,
      "metadata": {
        "id": "C1H3CkCILiBn"
      },
      "outputs": [],
      "source": [
        "def return_stocks(stocks, end_date=dt.datetime.now(), years=5):\n",
        "    \"\"\"\n",
        "    Retrieves historical stock data for a list of stock tickers and calculates their daily logarithmic returns.\n",
        "\n",
        "    This function downloads historical stock data for the specified tickers over a given period, calculates\n",
        "    the daily logarithmic returns for each stock, and returns two pandas DataFrames: one containing the log returns and\n",
        "    another containing the closing prices. The function also handles missing data by performing linear interpolation.\n",
        "\n",
        "    Parameters:\n",
        "    stocks (list or str): A list of stock tickers (as strings) or a single stock ticker.\n",
        "    end_date (datetime): The end date for the historical data. Defaults to the current date.\n",
        "    years (int): The number of years of historical data to retrieve. Defaults to 5 years.\n",
        "\n",
        "    Returns:\n",
        "    tuple: A tuple containing:\n",
        "        - pandas.DataFrame: The daily log returns of the stocks.\n",
        "        - pandas.DataFrame: The historical closing prices of the stocks.\n",
        "    \"\"\"\n",
        "\n",
        "    start_date = end_date - dt.timedelta(days=366 * years)\n",
        "    historical = yf.download(stocks, start=start_date, end=end_date)\n",
        "\n",
        "    # Extract the closing prices from the historical data\n",
        "    historical = historical['Close']\n",
        "\n",
        "    # Ensure the historical data is sorted by date in ascending order\n",
        "    historical = historical.sort_index()\n",
        "\n",
        "    # Perform linear interpolation to fill in any missing values in the historical closing prices\n",
        "    historical = historical.interpolate(method='linear', axis=0)\n",
        "\n",
        "    return historical\n"
      ]
    },
    {
      "cell_type": "markdown",
      "metadata": {
        "id": "CoTxiWdOoCT_"
      },
      "source": [
        "####Loading and Cleaning FTSE ATHEX Large Cap Price Data"
      ]
    },
    {
      "cell_type": "code",
      "execution_count": null,
      "metadata": {
        "id": "mUcAtPakL8Tj"
      },
      "outputs": [],
      "source": [
        "# Import FTSE data and clean it\n",
        "\n",
        "# Read FTSE price data from a CSV file\n",
        "ftse_price = pd.read_csv('/content/FTSE_ATHEX Large Cap Historical Data.csv')\n",
        "\n",
        "# Extract the 'Date' column to use as index\n",
        "i = ftse_price['Date']\n",
        "\n",
        "# Extract 'Price' column as the closing price\n",
        "ftse_price = ftse_price['Price']\n",
        "\n",
        "# Set the 'Date' column as the index\n",
        "ftse_price.index = i\n",
        "\n",
        "# Convert the price data into a DataFrame\n",
        "ftse_price = pd.DataFrame(ftse_price)\n",
        "\n",
        "# Rename the column to 'Close' for consistency with other datasets\n",
        "ftse_price.columns = ['Close']\n",
        "\n",
        "# Rename the index axis to 'Date'\n",
        "ftse_price = ftse_price.rename_axis('Date')\n",
        "\n",
        "# Reset the index to make 'Date' a column again\n",
        "ftse_price = ftse_price.reset_index()\n",
        "\n",
        "# Convert 'Date' column to datetime format (month/day/year)\n",
        "ftse_price['Date'] = pd.to_datetime(ftse_price['Date'], format='%m/%d/%Y')\n",
        "\n",
        "# Function to replace commas with dots in the price data (for proper float conversion)\n",
        "def swap_dots_commas(value):\n",
        "    return value.replace(',', '')\n",
        "\n",
        "# Apply the function to the 'Close' column to clean the data\n",
        "ftse_price['Close'] = ftse_price['Close'].apply(swap_dots_commas)\n",
        "\n",
        "# Convert the 'Close' column from string to float\n",
        "ftse_price['Close'] = ftse_price['Close'].astype(float)\n",
        "\n",
        "# Set the 'Date' column as the index again after cleaning\n",
        "ftse_price.set_index('Date', inplace=True)\n",
        "\n",
        "# Sort the data by date in ascending order\n",
        "ftse_price = ftse_price.sort_index()\n"
      ]
    },
    {
      "cell_type": "markdown",
      "metadata": {
        "id": "gHYyIBfeymbw"
      },
      "source": [
        "####Inputs"
      ]
    },
    {
      "cell_type": "code",
      "execution_count": null,
      "metadata": {
        "colab": {
          "base_uri": "https://localhost:8080/"
        },
        "id": "IU4KEb59qSqs",
        "outputId": "e330fae7-ea74-4150-b966-13062919838e"
      },
      "outputs": [
        {
          "output_type": "stream",
          "name": "stderr",
          "text": [
            "[*********************100%***********************]  12 of 12 completed\n"
          ]
        }
      ],
      "source": [
        "# Define stock symbols for the portfolio\n",
        "stocks = [\"TENERGY.AT\", \"HTO.AT\", \"KRI.AT\", \"PPC.AT\", \"EUROB.AT\", \"INKAT.AT\",\n",
        "          \"INLOT.AT\", \"PREMIA.AT\", \"LAVI.AT\", \"LAMDA.AT\", \"OTOEL.AT\", \"OPAP.AT\"]\n",
        "\n",
        "# Define portfolio weights corresponding to each stock\n",
        "port_weights = [0.110147, 0.094247, 0.077479, 0.090489, 0.090199, 0.089621,\n",
        "                0.078346, 0.069673, 0.038450, 0.093958, 0.087019, 0.080370]\n",
        "\n",
        "# Retrieve historical stock prices for the defined stocks over the last 2 years up to the specified end date\n",
        "stock_prices = return_stocks(stocks, end_date=dt.datetime(2024, 8, 10), years=2)\n",
        "\n"
      ]
    },
    {
      "cell_type": "code",
      "execution_count": null,
      "metadata": {
        "id": "ddoaUjVQGsZn"
      },
      "outputs": [],
      "source": [
        "# INPUTS FOR OUR FUNCTION\n",
        "\n",
        "# Portfolio weights defined earlier, representing the allocation for each stock\n",
        "port_weights = port_weights\n",
        "\n",
        "# Index prices for the FTSE, used as a benchmark or reference for performance\n",
        "index_prices = ftse_price\n",
        "\n",
        "# Total equity amount available for investment\n",
        "equity = 100000\n",
        "\n",
        "# Frequency of rebalancing the portfolio (in months)\n",
        "frequency = 3\n",
        "\n",
        "# Required margin for trading (10% of the equity)\n",
        "req_margin = 0.1\n",
        "\n",
        "# Index multiplier, which determines the overall contract price for index futures\n",
        "multiplier = 2\n",
        "\n",
        "# Start date for the investment period\n",
        "start_date = dt.datetime(2023, 8, 10)\n",
        "\n",
        "# End date for the investment period, initialized as 0 for future assignment\n",
        "end_date = 0"
      ]
    }
  ],
  "metadata": {
    "colab": {
      "provenance": []
    },
    "kernelspec": {
      "display_name": "Python 3 (ipykernel)",
      "language": "python",
      "name": "python3"
    },
    "language_info": {
      "codemirror_mode": {
        "name": "ipython",
        "version": 3
      },
      "file_extension": ".py",
      "mimetype": "text/x-python",
      "name": "python",
      "nbconvert_exporter": "python",
      "pygments_lexer": "ipython3",
      "version": "3.11.0"
    }
  },
  "nbformat": 4,
  "nbformat_minor": 0
}