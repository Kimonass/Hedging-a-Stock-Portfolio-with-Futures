{
  "cells": [
    {
      "cell_type": "markdown",
      "metadata": {
        "id": "K9_qIAf2n0M2"
      },
      "source": []
    },
    {
      "cell_type": "markdown",
      "metadata": {
        "id": "t-Sp2XjqOQSI"
      },
      "source": [
        "###**Data Manipulation**"
      ]
    },
    {
      "cell_type": "markdown",
      "metadata": {
        "id": "NsrlpAn5608T"
      },
      "source": [
        "####Input Formating"
      ]
    },
    {
      "cell_type": "code",
      "execution_count": null,
      "metadata": {
        "id": "mrTa5BR2HbPb"
      },
      "outputs": [],
      "source": [
        "# Assign equal weights if no portfolio weights are provided\n",
        "if len(port_weights) == 0:\n",
        "    port_weights = np.ones(len(stock_prices.columns)) / len(stock_prices.columns)  # Equal distribution\n",
        "else:\n",
        "    port_weights = np.array(port_weights)  # Convert provided weights to a NumPy array\n"
      ]
    },
    {
      "cell_type": "code",
      "execution_count": null,
      "metadata": {
        "id": "OKtdt0f_HbMh"
      },
      "outputs": [],
      "source": [
        "# Set default start and end dates if not provided\n",
        "# (Adding 45 days for later beta calculation)\n",
        "if start_date == 0:\n",
        "    start_date = stock_prices.loc[stock_prices.index[0] + dt.timedelta(days=45)]\n",
        "if end_date == 0:\n",
        "    end_date = stock_prices.index[-1]\n",
        "\n",
        "# Format start and end dates as datetime objects\n",
        "start_date = start_date.date()\n",
        "end_date = end_date.date()\n",
        "\n",
        "# Assign stock and index prices to variables\n",
        "stock_prices = stock_prices\n",
        "index_prices = index_prices"
      ]
    },
    {
      "cell_type": "code",
      "execution_count": null,
      "metadata": {
        "id": "g3YZ_a9TIj-q"
      },
      "outputs": [],
      "source": [
        "# Remove timezone information from stock and index data\n",
        "stock_prices = stock_prices.tz_localize(None)\n",
        "index_prices = index_prices.tz_localize(None)"
      ]
    },
    {
      "cell_type": "markdown",
      "metadata": {
        "id": "B9dEwMoiFAyS"
      },
      "source": [
        "####Returns"
      ]
    },
    {
      "cell_type": "code",
      "execution_count": null,
      "metadata": {
        "id": "O49cLvQhFHav"
      },
      "outputs": [],
      "source": [
        "def log_returns(prices):\n",
        "    # Calculate logarithmic returns from price data\n",
        "    ret = np.log(prices / prices.shift(1))  # Log return calculation\n",
        "\n",
        "    # Interpolate to fill any missing values using linear method\n",
        "    ret = ret.interpolate(method='linear', axis=0)\n",
        "\n",
        "    # Remove the first row (NaN values resulting from the shift)\n",
        "    ret = ret.iloc[1:]\n",
        "\n",
        "    return ret  # Return the cleaned log returns"
      ]
    },
    {
      "cell_type": "code",
      "execution_count": null,
      "metadata": {
        "id": "x2CoV3nbFZ2G"
      },
      "outputs": [],
      "source": [
        "# Calculate log returns for the index\n",
        "index_returns=log_returns(index_prices)\n",
        "\n",
        "# Calculate log returns for the stock portfolio\n",
        "stock_returns=log_returns(stock_prices)"
      ]
    },
    {
      "cell_type": "code",
      "execution_count": null,
      "metadata": {
        "id": "LIGtbxplKIE4"
      },
      "outputs": [],
      "source": [
        "# Calculate portfolio returns with daily rebalancing based on the provided weights\n",
        "rebalanced_returns = stock_returns.dot(port_weights)  # Compute weighted returns for the portfolio\n",
        "\n",
        "# Slice the rebalanced returns to include only the period from 45 days before the start date to the start date\n",
        "# This allows us to maintain consistent portfolio weights (rebalanced daily) and calculate beta accurately later on\n",
        "rebalanced_returns = rebalanced_returns[start_date - dt.timedelta(days=45):start_date]\n",
        "\n",
        "# Assign a name to the resulting Series for clarity\n",
        "rebalanced_returns.name = 'Value'"
      ]
    },
    {
      "cell_type": "markdown",
      "metadata": {
        "id": "Lzc6fWL71tTe"
      },
      "source": [
        "####Data Preprocessing for Portfolio Returns"
      ]
    },
    {
      "cell_type": "code",
      "execution_count": null,
      "metadata": {
        "id": "gwZlSb6h06C1"
      },
      "outputs": [],
      "source": [
        "# Get stock prices at the start date\n",
        "start_date = pd.Timestamp(start_date)  # Convert start_date to a Pandas Timestamp for compatibility\n",
        "\n",
        "# Retrieve stock prices on the day of investment initiation\n",
        "price_start = pd.DataFrame(stock_prices.loc[start_date])  # Create a DataFrame for stock prices at the start date\n",
        "\n",
        "# Create a DataFrame for portfolio weights and assign corresponding stock names\n",
        "port_weights = pd.DataFrame(port_weights)  # Convert portfolio weights to a DataFrame\n",
        "port_weights.index = price_start.index  # Set the index to match the stock names\n",
        "port_weights.columns = ['Value']  # Rename the column to 'Value'\n",
        "port_weights.index.name = 'Stock'  # Name the index as 'Stock' for clarity"
      ]
    },
    {
      "cell_type": "code",
      "execution_count": null,
      "metadata": {
        "id": "Jkeo1kulTUwF"
      },
      "outputs": [],
      "source": [
        "# Calculate the total dollar amount invested in each stock based on portfolio weights\n",
        "port_weights_value = port_weights * equity  # Multiply weights by total equity to get investment amounts\n",
        "\n",
        "# Rename columns and index for consistency\n",
        "port_weights_value.columns = ['Value']  # Ensure the column is named 'Value'\n",
        "port_weights_value.index.name = 'Stock'  # Name the index as 'Stock' for clarity\n",
        "price_start.index.name = 'Stock'  # Ensure price_start index is also named 'Stock'\n",
        "price_start.columns = ['Value']  # Rename price_start column to 'Value' for consistency\n",
        "\n",
        "# Calculate the quantity of each stock based on the invested amount and current prices\n",
        "port_quantity = port_weights_value / price_start  # Divide investment amounts by stock prices to get quantities\n",
        "\n",
        "# Convert the result to a Series for easier handling\n",
        "port_quantity = pd.Series(port_quantity['Value'])  # Extract 'Value' from the DataFrame to a Series\n"
      ]
    },
    {
      "cell_type": "code",
      "execution_count": null,
      "metadata": {
        "id": "waJdMLU9Vh_F"
      },
      "outputs": [],
      "source": [
        "# Calculate the equity values over the holding period by multiplying quantities of stocks by their prices\n",
        "historical_equity = port_quantity * stock_prices  # Compute the equity value for each stock over time\n",
        "\n",
        "# Slice the historical equity DataFrame to include only the relevant period from start_date to end_date\n",
        "historical_equity = historical_equity[start_date:end_date]\n",
        "\n",
        "# Calculate the total equity of the portfolio by summing the equity values across all stocks\n",
        "port_equity = historical_equity.sum(axis=1)  # Sum the equity values for each time point\n",
        "port_equity.name = 'Equity'  # Name the resulting Series for clarity"
      ]
    },
    {
      "cell_type": "markdown",
      "metadata": {
        "id": "6GxqBiz68zGS"
      },
      "source": [
        "####Portfolio Returns: Merging Rebalanced and Actual Results"
      ]
    },
    {
      "cell_type": "code",
      "execution_count": null,
      "metadata": {
        "id": "lRqitPZTNcJd"
      },
      "outputs": [],
      "source": [
        "# Calculate portfolio returns using logarithmic returns based on equity values\n",
        "port_ret = np.log(port_equity / port_equity.shift(1))  # Compute log returns of the portfolio\n",
        "\n",
        "# Remove the first row to eliminate NaN values resulting from the shift\n",
        "port_ret = port_ret.iloc[1:]\n",
        "\n",
        "# Convert the portfolio returns Series to a DataFrame for consistency\n",
        "port_ret = pd.DataFrame(port_ret)\n",
        "\n",
        "# Rename the column to 'Value' for clarity in analysis\n",
        "port_ret.columns = ['Value']"
      ]
    },
    {
      "cell_type": "code",
      "execution_count": null,
      "metadata": {
        "id": "XBxOIzZEWfUX"
      },
      "outputs": [],
      "source": [
        "# Concatenate portfolio returns with rebalanced returns for comprehensive analysis\n",
        "port_ret = pd.concat([rebalanced_returns, port_ret])  # Combine the two return Series\n",
        "\n",
        "# Rename the column to 'Portfolio' for clarity in the analysis\n",
        "port_ret.columns = ['Portfolio']\n"
      ]
    }
  ],
  "metadata": {
    "colab": {
      "provenance": []
    },
    "kernelspec": {
      "display_name": "Python 3 (ipykernel)",
      "language": "python",
      "name": "python3"
    },
    "language_info": {
      "codemirror_mode": {
        "name": "ipython",
        "version": 3
      },
      "file_extension": ".py",
      "mimetype": "text/x-python",
      "name": "python",
      "nbconvert_exporter": "python",
      "pygments_lexer": "ipython3",
      "version": "3.11.0"
    }
  },
  "nbformat": 4,
  "nbformat_minor": 0
}