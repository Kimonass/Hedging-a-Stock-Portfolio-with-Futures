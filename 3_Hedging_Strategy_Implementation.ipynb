{
  "cells": [
    {
      "cell_type": "markdown",
      "metadata": {
        "id": "K9_qIAf2n0M2"
      },
      "source": []
    },
    {
      "cell_type": "markdown",
      "metadata": {
        "id": "ruJNavGPObqE"
      },
      "source": [
        "###**Hedging Strategy Implementation**"
      ]
    },
    {
      "cell_type": "markdown",
      "metadata": {
        "id": "XiTjnh5H4gp4"
      },
      "source": [
        "####Rolling Beta Calculation"
      ]
    },
    {
      "cell_type": "code",
      "execution_count": null,
      "metadata": {
        "id": "fEaC2WTJZLo5"
      },
      "outputs": [],
      "source": [
        "d = 45  # Set the rolling window size (days)\n",
        "beta_list = []  # Initialize a list to store calculated beta values\n",
        "\n",
        "# Loop through the index returns to calculate beta for each time point\n",
        "for i in range(len(index_returns[:start_date]) - 1, len(index_returns)):\n",
        "    end_date2 = index_returns.iloc[i].name  # Get the current end date\n",
        "\n",
        "    start_date2 = end_date2 - dt.timedelta(days=d)  # Define the start date for the rolling window\n",
        "    model = LinearRegression()  # Initialize the Linear Regression model\n",
        "\n",
        "    # Prepare the feature (index returns) and target (portfolio returns) for regression\n",
        "    X = index_returns[start_date2:end_date2].values.reshape(-1, 1)  # Index returns as predictor\n",
        "    y = port_ret[start_date2:end_date2].values  # Portfolio returns as response\n",
        "\n",
        "    model.fit(X, y)  # Fit the model to the data\n",
        "    beta = model.coef_[0]  # Extract the calculated beta coefficient\n",
        "    beta_list.append(beta)  # Append the beta value to the list"
      ]
    },
    {
      "cell_type": "markdown",
      "metadata": {
        "id": "wqw09C4MMN0Z"
      },
      "source": [
        "####Number of Contracts, Portfolio & Futures Values Functions"
      ]
    },
    {
      "cell_type": "code",
      "execution_count": null,
      "metadata": {
        "id": "gdvB-QssZEMC"
      },
      "outputs": [],
      "source": [
        "# Function to calculate the number of futures contracts needed for hedging\n",
        "def n_contracts(value, index_price, beta, multiplier):\n",
        "    return -beta * (value) / (index_price * multiplier)  # Calculate the required number of contracts\n",
        "\n",
        "# Function to calculate the total portfolio value based on quantities and historical prices\n",
        "def port_v(port_quantity, historical):\n",
        "    return sum(port_quantity * historical)  # Compute the total portfolio value\n",
        "\n",
        "# Function to calculate the value of futures contracts based on the number of contracts and historical prices\n",
        "def index_v(number_of_contracts, historical, multiplier):\n",
        "    return number_of_contracts * historical.iloc[0] * multiplier  # Calculate the futures contract value"
      ]
    },
    {
      "cell_type": "markdown",
      "metadata": {
        "id": "0O22Dqf14jUX"
      },
      "source": [
        "####Calculate Futures Contracts and Portfolio Values"
      ]
    },
    {
      "cell_type": "code",
      "execution_count": null,
      "metadata": {
        "id": "E8jpMgNLaweV"
      },
      "outputs": [],
      "source": [
        "count = 0  # Initialize a counter for iterations\n",
        "port_value = []  # List to store portfolio values over time\n",
        "index_value = []  # List to store index values over time\n",
        "\n",
        "new_port_equity = port_equity  # Use the existing portfolio equity for calculations\n",
        "new_index_prices = index_prices[start_date:end_date]  # Slice index prices for the relevant period\n",
        "\n",
        "# Loop through the index prices to calculate futures contracts and values\n",
        "for i in range(0, len(new_index_prices)):\n",
        "    if i == 0:  # For the first iteration\n",
        "        count += 1  # Increment the counter\n",
        "        # Calculate the number of contracts needed at the initial index price\n",
        "        N = [n_contracts(equity, new_index_prices.iloc[0], beta_list[i], multiplier).iloc[0]]\n",
        "        port_value.append(equity)  # Store the initial portfolio equity\n",
        "        index_value.append(abs(index_v(N[i], new_index_prices.iloc[0], multiplier)))  # Store the index value\n",
        "    elif i % frequency == 0:  # Every specified frequency\n",
        "        count += 1  # Increment the counter\n",
        "        port_value.append(new_port_equity.iloc[i])  # Store the portfolio value at the current index\n",
        "        # Calculate the number of contracts needed based on the current portfolio value\n",
        "        N.append(n_contracts(port_value[i], new_index_prices.iloc[i], beta_list[i], multiplier).iloc[0])\n",
        "        index_value.append(abs(index_v(N[i], new_index_prices.iloc[i], multiplier)))  # Store the index value\n",
        "    else:  # For all other iterations\n",
        "        count += 1  # Increment the counter\n",
        "        N.append(N[i - 1])  # Retain the previous number of contracts\n",
        "        port_value.append(new_port_equity.iloc[i])  # Store the portfolio value\n",
        "        index_value.append(abs(index_v(N[i], new_index_prices.iloc[i], multiplier)))  # Store the index value"
      ]
    },
    {
      "cell_type": "markdown",
      "metadata": {
        "id": "qDFsilxj4yja"
      },
      "source": [
        "####P&L, Required Margin, Margin & Margin Flows"
      ]
    },
    {
      "cell_type": "code",
      "execution_count": null,
      "metadata": {
        "colab": {
          "base_uri": "https://localhost:8080/"
        },
        "id": "4Ij0uoy2_KQz",
        "outputId": "a13e7c2d-25cd-48cb-ebf4-a2d36a415658"
      },
      "outputs": [
        {
          "output_type": "stream",
          "name": "stderr",
          "text": [
            "<ipython-input-21-a33bd3112fa1>:5: FutureWarning: Series.__getitem__ treating keys as positions is deprecated. In a future version, integer keys will always be treated as labels (consistent with DataFrame behavior). To access a value by position, use `ser.iloc[pos]`\n",
            "  total_equity = [port_equity[0]]  # Starting total equity based on the initial portfolio value\n",
            "<ipython-input-21-a33bd3112fa1>:12: FutureWarning: Calling float on a single element Series is deprecated and will raise a TypeError in the future. Use float(ser.iloc[0]) instead\n",
            "  pnl.append(float((new_index_prices.iloc[i] - new_index_prices.iloc[i - 1]) * 2 * N[i - 1]))\n",
            "<ipython-input-21-a33bd3112fa1>:22: FutureWarning: Series.__getitem__ treating keys as positions is deprecated. In a future version, integer keys will always be treated as labels (consistent with DataFrame behavior). To access a value by position, use `ser.iloc[pos]`\n",
            "  total_equity.append(port_equity[i] + pnl[i])\n"
          ]
        }
      ],
      "source": [
        "pnl = [0]  # Profit and Loss (P&L) list, starting with zero\n",
        "req_margin = list(0.1 * np.array(index_value))  # Required margin, set as 10% of index values\n",
        "margin = [req_margin[0]]  # Initial margin based on the first required margin value\n",
        "margin_flows = [-req_margin[0]]  # Initial margin flows (outflow for the first period)\n",
        "total_equity = [port_equity[0]]  # Starting total equity based on the initial portfolio value\n",
        "\n",
        "t_equity_change = [np.nan]  # Total equity change (percentage), starting with NaN for the first entry\n",
        "\n",
        "# Loop through index prices to calculate financial metrics over time\n",
        "for i in range(1, len(new_index_prices)):\n",
        "    # Calculate the profit and loss for the current period based on the change in index price\n",
        "    pnl.append(float((new_index_prices.iloc[i] - new_index_prices.iloc[i - 1]) * 2 * N[i - 1]))\n",
        "\n",
        "    # Check if the current required margin exceeds the sum of previous margin and current P&L\n",
        "    if float(req_margin[i]) > float((margin[i - 1] + pnl[i])):\n",
        "        # If it does, calculate the margin flow (outflow) needed to meet the required margin\n",
        "        margin_flows.append(-(req_margin[i] - (margin[i - 1] + pnl[i])))\n",
        "    else:\n",
        "        margin_flows.append(0)  # No margin flow needed if the margin is sufficient\n",
        "\n",
        "    # Calculate the total equity, which is the sum of portfolio equity and current P&L\n",
        "    total_equity.append(port_equity[i] + pnl[i])\n",
        "\n",
        "    # Calculate the percentage change in total equity compared to the previous period\n",
        "    t_equity_change.append((total_equity[i] - total_equity[i - 1]) / total_equity[i - 1])\n",
        "\n",
        "    # Update the required margin by adding the current P&L to the previous required margin\n",
        "    req_margin.append(req_margin[i] + pnl[i])\n",
        "\n",
        "    # Update the margin by adjusting for P&L and any margin flows\n",
        "    margin.append(margin[i - 1] + pnl[i] - margin_flows[i])\n",
        "\n",
        "# Trim the required margin list to match the length of new index prices\n",
        "req_margin = req_margin[:len(new_index_prices)]\n"
      ]
    },
    {
      "cell_type": "markdown",
      "metadata": {
        "id": "qeaUOG8z5ygM"
      },
      "source": [
        "####Final Results Table"
      ]
    },
    {
      "cell_type": "code",
      "execution_count": null,
      "metadata": {
        "id": "QQKCNHdxPWFs"
      },
      "outputs": [],
      "source": [
        "# Prepare results into a DataFrame for final output\n",
        "final_result = pd.concat([\n",
        "    pd.DataFrame(new_index_prices.index),  # Date index for the new index prices\n",
        "    pd.DataFrame(beta_list),               # List of calculated beta values\n",
        "    pd.DataFrame(N),                       # Number of futures contracts for hedging\n",
        "    pd.DataFrame(index_value),             # Values of the futures contracts\n",
        "    pd.DataFrame(new_index_prices.values), # Closing prices of the index\n",
        "    pd.DataFrame(pnl),                     # Profit and Loss values\n",
        "    pd.DataFrame(margin),                  # Margin values throughout the period\n",
        "    pd.DataFrame(req_margin),               # Required margin values\n",
        "    pd.DataFrame(margin_flows),            # Flows of margin (in/out) during the period\n",
        "    pd.DataFrame(port_equity.reset_index(drop=True)), # Portfolio value, reset index to match lengths\n",
        "    pd.DataFrame(total_equity),            # Total equity values after accounting for P&L\n",
        "    pd.DataFrame(t_equity_change)          # Percentage changes in total equity\n",
        "], axis=1)  # Concatenate along columns\n",
        "\n",
        "# Assign meaningful column names to the final DataFrame\n",
        "final_result.columns = [\n",
        "    'Date',                       # Date of the entry\n",
        "    'beta',                       # Rolling beta values for hedging\n",
        "    'N',                          # Number of futures contracts\n",
        "    'FTSE_value',                # Value of the FTSE contracts\n",
        "    'FTSE Close',                # Closing price of the FTSE index\n",
        "    'P/L',                       # Profit and Loss for the period\n",
        "    'Margin',                    # Margin maintained\n",
        "    'Required Margin',           # Required margin as per the contracts\n",
        "    'Margin Flows',              # Margin flows (in or out)\n",
        "    'Portfolio Value',           # Value of the portfolio\n",
        "    'Hedged Portfolio Value',    # Value of the portfolio after hedging\n",
        "    'Hedged Portfolio Returns'    # Returns on the hedged portfolio\n",
        "]\n",
        "\n",
        "# Set the 'Date' column as the index for the final result DataFrame\n",
        "final_result.index = final_result['Date']\n"
      ]
    }
  ],
  "metadata": {
    "colab": {
      "provenance": []
    },
    "kernelspec": {
      "display_name": "Python 3 (ipykernel)",
      "language": "python",
      "name": "python3"
    },
    "language_info": {
      "codemirror_mode": {
        "name": "ipython",
        "version": 3
      },
      "file_extension": ".py",
      "mimetype": "text/x-python",
      "name": "python",
      "nbconvert_exporter": "python",
      "pygments_lexer": "ipython3",
      "version": "3.11.0"
    }
  },
  "nbformat": 4,
  "nbformat_minor": 0
}